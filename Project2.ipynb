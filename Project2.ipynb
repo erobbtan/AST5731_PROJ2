{
 "cells": [
  {
   "cell_type": "markdown",
   "metadata": {},
   "source": [
    "# Project 2\n",
    "### Logistic Regression of Galaxy Morphological Type Frequencies by Redshift"
   ]
  },
  {
   "cell_type": "markdown",
   "metadata": {},
   "source": [
    "### 1. Importing Packages and Reading in the Data"
   ]
  },
  {
   "cell_type": "code",
   "execution_count": 1,
   "metadata": {},
   "outputs": [],
   "source": [
    "import numpy as np\n",
    "import pandas as pd\n",
    "import pymc as pm\n",
    "import seaborn as sns\n",
    "import matplotlib.pyplot as plt\n",
    "import math"
   ]
  },
  {
   "cell_type": "markdown",
   "metadata": {},
   "source": [
    "### 2. Visual Inspection of Data"
   ]
  },
  {
   "cell_type": "code",
   "execution_count": 10,
   "metadata": {},
   "outputs": [
    {
     "data": {
      "text/html": [
       "<div>\n",
       "<style scoped>\n",
       "    .dataframe tbody tr th:only-of-type {\n",
       "        vertical-align: middle;\n",
       "    }\n",
       "\n",
       "    .dataframe tbody tr th {\n",
       "        vertical-align: top;\n",
       "    }\n",
       "\n",
       "    .dataframe thead th {\n",
       "        text-align: right;\n",
       "    }\n",
       "</style>\n",
       "<table border=\"1\" class=\"dataframe\">\n",
       "  <thead>\n",
       "    <tr style=\"text-align: right;\">\n",
       "      <th></th>\n",
       "      <th>objID</th>\n",
       "      <th>z</th>\n",
       "      <th>SVMPython</th>\n",
       "      <th>RFPython</th>\n",
       "    </tr>\n",
       "  </thead>\n",
       "  <tbody>\n",
       "    <tr>\n",
       "      <th>0</th>\n",
       "      <td>1237657190905217072</td>\n",
       "      <td>0.078133</td>\n",
       "      <td>0</td>\n",
       "      <td>0</td>\n",
       "    </tr>\n",
       "    <tr>\n",
       "      <th>1</th>\n",
       "      <td>1237657191978959105</td>\n",
       "      <td>0.082131</td>\n",
       "      <td>0</td>\n",
       "      <td>0</td>\n",
       "    </tr>\n",
       "    <tr>\n",
       "      <th>2</th>\n",
       "      <td>1237652944249094158</td>\n",
       "      <td>0.083400</td>\n",
       "      <td>0</td>\n",
       "      <td>0</td>\n",
       "    </tr>\n",
       "    <tr>\n",
       "      <th>3</th>\n",
       "      <td>1237656496724312079</td>\n",
       "      <td>0.020017</td>\n",
       "      <td>1</td>\n",
       "      <td>1</td>\n",
       "    </tr>\n",
       "    <tr>\n",
       "      <th>4</th>\n",
       "      <td>1237657191978959113</td>\n",
       "      <td>0.082439</td>\n",
       "      <td>0</td>\n",
       "      <td>0</td>\n",
       "    </tr>\n",
       "  </tbody>\n",
       "</table>\n",
       "</div>"
      ],
      "text/plain": [
       "                 objID         z  SVMPython  RFPython\n",
       "0  1237657190905217072  0.078133          0         0\n",
       "1  1237657191978959105  0.082131          0         0\n",
       "2  1237652944249094158  0.083400          0         0\n",
       "3  1237656496724312079  0.020017          1         1\n",
       "4  1237657191978959113  0.082439          0         0"
      ]
     },
     "execution_count": 10,
     "metadata": {},
     "output_type": "execute_result"
    }
   ],
   "source": [
    "df = pd.read_csv('GalaxyMorphZ.tsv', sep=\"\\t\")\n",
    "df.head()"
   ]
  },
  {
   "cell_type": "code",
   "execution_count": 12,
   "metadata": {},
   "outputs": [
    {
     "data": {
      "text/html": [
       "<div>\n",
       "<style scoped>\n",
       "    .dataframe tbody tr th:only-of-type {\n",
       "        vertical-align: middle;\n",
       "    }\n",
       "\n",
       "    .dataframe tbody tr th {\n",
       "        vertical-align: top;\n",
       "    }\n",
       "\n",
       "    .dataframe thead th {\n",
       "        text-align: right;\n",
       "    }\n",
       "</style>\n",
       "<table border=\"1\" class=\"dataframe\">\n",
       "  <thead>\n",
       "    <tr style=\"text-align: right;\">\n",
       "      <th></th>\n",
       "      <th>objID</th>\n",
       "      <th>z</th>\n",
       "      <th>SVMPython</th>\n",
       "      <th>RFPython</th>\n",
       "    </tr>\n",
       "  </thead>\n",
       "  <tbody>\n",
       "    <tr>\n",
       "      <th>count</th>\n",
       "      <td>3.160310e+05</td>\n",
       "      <td>316031.000000</td>\n",
       "      <td>316031.000000</td>\n",
       "      <td>316031.000000</td>\n",
       "    </tr>\n",
       "    <tr>\n",
       "      <th>mean</th>\n",
       "      <td>1.237662e+18</td>\n",
       "      <td>0.063504</td>\n",
       "      <td>0.558053</td>\n",
       "      <td>0.581721</td>\n",
       "    </tr>\n",
       "    <tr>\n",
       "      <th>std</th>\n",
       "      <td>6.022167e+12</td>\n",
       "      <td>0.023058</td>\n",
       "      <td>0.496619</td>\n",
       "      <td>0.493277</td>\n",
       "    </tr>\n",
       "    <tr>\n",
       "      <th>min</th>\n",
       "      <td>1.237646e+18</td>\n",
       "      <td>0.003001</td>\n",
       "      <td>0.000000</td>\n",
       "      <td>0.000000</td>\n",
       "    </tr>\n",
       "    <tr>\n",
       "      <th>25%</th>\n",
       "      <td>1.237658e+18</td>\n",
       "      <td>0.045979</td>\n",
       "      <td>0.000000</td>\n",
       "      <td>0.000000</td>\n",
       "    </tr>\n",
       "    <tr>\n",
       "      <th>50%</th>\n",
       "      <td>1.237662e+18</td>\n",
       "      <td>0.067202</td>\n",
       "      <td>1.000000</td>\n",
       "      <td>1.000000</td>\n",
       "    </tr>\n",
       "    <tr>\n",
       "      <th>75%</th>\n",
       "      <td>1.237665e+18</td>\n",
       "      <td>0.082217</td>\n",
       "      <td>1.000000</td>\n",
       "      <td>1.000000</td>\n",
       "    </tr>\n",
       "    <tr>\n",
       "      <th>max</th>\n",
       "      <td>1.237680e+18</td>\n",
       "      <td>0.100000</td>\n",
       "      <td>1.000000</td>\n",
       "      <td>1.000000</td>\n",
       "    </tr>\n",
       "  </tbody>\n",
       "</table>\n",
       "</div>"
      ],
      "text/plain": [
       "              objID              z      SVMPython       RFPython\n",
       "count  3.160310e+05  316031.000000  316031.000000  316031.000000\n",
       "mean   1.237662e+18       0.063504       0.558053       0.581721\n",
       "std    6.022167e+12       0.023058       0.496619       0.493277\n",
       "min    1.237646e+18       0.003001       0.000000       0.000000\n",
       "25%    1.237658e+18       0.045979       0.000000       0.000000\n",
       "50%    1.237662e+18       0.067202       1.000000       1.000000\n",
       "75%    1.237665e+18       0.082217       1.000000       1.000000\n",
       "max    1.237680e+18       0.100000       1.000000       1.000000"
      ]
     },
     "execution_count": 12,
     "metadata": {},
     "output_type": "execute_result"
    }
   ],
   "source": [
    "df.describe()"
   ]
  },
  {
   "cell_type": "code",
   "execution_count": 19,
   "metadata": {},
   "outputs": [
    {
     "data": {
      "text/plain": [
       "Text(0.5, 1.0, 'Proportions According to SVM')"
      ]
     },
     "execution_count": 19,
     "metadata": {},
     "output_type": "execute_result"
    },
    {
     "data": {
      "image/png": "[encoded data removed]",
      "text/plain": [
       "<Figure size 640x480 with 1 Axes>"
      ]
     },
     "metadata": {},
     "output_type": "display_data"
    }
   ],
   "source": [
    "# We will just look at the SVM classifications in this project\n",
    "\n",
    "N = len(df)\n",
    "\n",
    "elliptical = df[df['SVMPython']==0]\n",
    "spiral = df[df['SVMPython']==1]\n",
    "num_elliptical = len(elliptical)\n",
    "num_spiral = len(spiral)\n",
    "\n",
    "plt.bar(['Elliptical','Spiral'],[num_elliptical,num_spiral])\n",
    "plt.title(\"Proportions According to SVM\")"
   ]
  },
  {
   "cell_type": "code",
   "execution_count": 18,
   "metadata": {},
   "outputs": [
    {
     "data": {
      "image/png": "[encoded data removed]",
      "text/plain": [
       "<Figure size 600x400 with 1 Axes>"
      ]
     },
     "metadata": {},
     "output_type": "display_data"
    }
   ],
   "source": [
    "# Boxplot\n",
    "spirals = df['SVMPython'] == 1\n",
    "\n",
    "plt.figure(figsize = (6, 4))\n",
    "\n",
    "plt.boxplot(x = [df['z'][~spirals], df['z'][spirals]], labels = '01');\n",
    "\n",
    "plt.ylabel('Redshift', fontsize = 18);\n",
    "plt.xlabel('Galaxy Morphology, SVM', fontsize = 18);\n",
    "\n",
    "\n",
    "plt.tight_layout()\n",
    "\n",
    "plt.show()"
   ]
  },
  {
   "cell_type": "code",
   "execution_count": 22,
   "metadata": {},
   "outputs": [
    {
     "data": {
      "image/png": "[encoded data removed]",
      "text/plain": [
       "<Figure size 640x480 with 1 Axes>"
      ]
     },
     "metadata": {},
     "output_type": "display_data"
    }
   ],
   "source": [
    "# Plotting proportions of spiral over redshift\n",
    "\n",
    "x=np.linspace(np.min(df[\"z\"]),np.max(df[\"z\"]),100)\n",
    "y1=np.zeros(100)\n",
    "y2=np.zeros(100)\n",
    "sep=x[1]-x[0]\n",
    "for i,z in enumerate(x):\n",
    "    try:\n",
    "        y1[i]=len(df[(df[\"SVMPython\"]==1)&(df[\"z\"]>z)&(df[\"z\"]<z+sep)])/len(df[(df[\"z\"]>z)&(df[\"z\"]<z+sep)])\n",
    "    except:\n",
    "        y1[i]=0\n",
    "for i,z in enumerate(x):\n",
    "    try:\n",
    "        y2[i]=len(df[(df[\"RFPython\"]==1)&(df[\"z\"]>z)&(df[\"z\"]<z+sep)])/len(df[(df[\"z\"]>z)&(df[\"z\"]<z+sep)])\n",
    "    except:\n",
    "        y2[i]=0\n",
    "plt.plot(x,y1,label=\"SVM\")\n",
    "plt.plot(x,y2,label=\"RF\")\n",
    "plt.legend()\n",
    "plt.xlim(x[0],x[-2])\n",
    "plt.xlabel(\"Redshift\")\n",
    "plt.ylabel(\"Ratio of late-type galaxies\")\n",
    "plt.title(\"Proportion of Spiral Galaxies by Redshift (z)\")\n",
    "plt.show()\n"
   ]
  },
  {
   "cell_type": "markdown",
   "metadata": {},
   "source": [
    "### 3. Establishing Priors and Creating Model"
   ]
  },
  {
   "cell_type": "code",
   "execution_count": 26,
   "metadata": {},
   "outputs": [
    {
     "name": "stdout",
     "output_type": "stream",
     "text": [
      "Minimum effective size: 8708\n"
     ]
    }
   ],
   "source": [
    "#Minimum Effective Sample Size - we have 6: mean, lb and ub for CI for both b0 and b1\n",
    "\n",
    "import pymc as pm\n",
    "import arviz as az\n",
    "from scipy.stats import chi2\n",
    "from scipy.special import gamma\n",
    "\n",
    "def minESS(p,alpha=0.05,epsilon=0.05):\n",
    "    X2=chi2.ppf(1-alpha, p)\n",
    "    min_num=np.rint(np.pi*(2./p/gamma(p/2))**(2/p)*X2/epsilon**2)\n",
    "    return min_num.astype(int)\n",
    "\n",
    "N_sample = minESS(6).astype(int)\n",
    "\n",
    "print('Minimum effective size:', N_sample)"
   ]
  },
  {
   "cell_type": "code",
   "execution_count": 1,
   "metadata": {},
   "outputs": [
    {
     "ename": "NameError",
     "evalue": "name 'df' is not defined",
     "output_type": "error",
     "traceback": [
      "\u001b[0;31m---------------------------------------------------------------------------\u001b[0m",
      "\u001b[0;31mNameError\u001b[0m                                 Traceback (most recent call last)",
      "\u001b[1;32m/Users/abbystokes/Documents/GitHub/AST5731_PROJ2/Project2.ipynb Cell 12\u001b[0m line \u001b[0;36m4\n\u001b[1;32m      <a href='vscode-notebook-cell:/Users/abbystokes/Documents/GitHub/AST5731_PROJ2/Project2.ipynb#X16sZmlsZQ%3D%3D?line=0'>1</a>\u001b[0m \u001b[39m# Warning: This block takes about 10 min to run\u001b[39;00m\n\u001b[1;32m      <a href='vscode-notebook-cell:/Users/abbystokes/Documents/GitHub/AST5731_PROJ2/Project2.ipynb#X16sZmlsZQ%3D%3D?line=1'>2</a>\u001b[0m \n\u001b[1;32m      <a href='vscode-notebook-cell:/Users/abbystokes/Documents/GitHub/AST5731_PROJ2/Project2.ipynb#X16sZmlsZQ%3D%3D?line=2'>3</a>\u001b[0m \u001b[39m# We will use the standard reference prior for our Betas (Normal with tau = 0.01, mu = 0)\u001b[39;00m\n\u001b[0;32m----> <a href='vscode-notebook-cell:/Users/abbystokes/Documents/GitHub/AST5731_PROJ2/Project2.ipynb#X16sZmlsZQ%3D%3D?line=3'>4</a>\u001b[0m y \u001b[39m=\u001b[39m df[\u001b[39m'\u001b[39m\u001b[39mSVMPython\u001b[39m\u001b[39m'\u001b[39m]\n\u001b[1;32m      <a href='vscode-notebook-cell:/Users/abbystokes/Documents/GitHub/AST5731_PROJ2/Project2.ipynb#X16sZmlsZQ%3D%3D?line=4'>5</a>\u001b[0m x \u001b[39m=\u001b[39m df[\u001b[39m'\u001b[39m\u001b[39mz\u001b[39m\u001b[39m'\u001b[39m]\n\u001b[1;32m      <a href='vscode-notebook-cell:/Users/abbystokes/Documents/GitHub/AST5731_PROJ2/Project2.ipynb#X16sZmlsZQ%3D%3D?line=6'>7</a>\u001b[0m \u001b[39m# Building the model\u001b[39;00m\n",
      "\u001b[0;31mNameError\u001b[0m: name 'df' is not defined"
     ]
    }
   ],
   "source": [
    "# Warning: This block takes about 10 min to run\n",
    "\n",
    "# We will use the standard reference prior for our Betas (Normal with tau = 0.01, mu = 0)\n",
    "y = df['SVMPython']\n",
    "x = df['z']\n",
    "\n",
    "# Building the model\n",
    "with pm.Model() as model:\n",
    "    # Priors on Beta\n",
    "    beta0 = pm.Normal('beta0', mu=0, tau=0.01, testval=0.0)\n",
    "    beta1 = pm.Normal('beta1', mu=0, tau=0.01, testval=0.0)\n",
    "\n",
    "    # Drawing theta using sigmoid\n",
    "    theta = pm.Deterministic('theta', pm.math.sigmoid(beta0+beta1*x))\n",
    "\n",
    "    # Bernoulli output using theta\n",
    "    observed = pm.Bernoulli('obs',theta,observed=y)\n",
    "   \n",
    "    start=pm.find_MAP()\n",
    "    step = pm.NUTS()\n",
    "    # Posterior sampling\n",
    "    trace = pm.sample(N_sample, step=step, return_inferencedata=True);\n"
   ]
  },
  {
   "cell_type": "markdown",
   "metadata": {},
   "source": [
    "### 4. Prior Predictive Check"
   ]
  },
  {
   "cell_type": "code",
   "execution_count": null,
   "metadata": {},
   "outputs": [],
   "source": []
  },
  {
   "cell_type": "markdown",
   "metadata": {},
   "source": [
    "### 5. Posterior Distributions"
   ]
  },
  {
   "cell_type": "code",
   "execution_count": null,
   "metadata": {},
   "outputs": [],
   "source": [
    "# Posterior Distributions\n",
    "az.plot_trace(trace,var_names=['beta0','beta1'],figsize=(10, 9))"
   ]
  },
  {
   "cell_type": "code",
   "execution_count": null,
   "metadata": {},
   "outputs": [],
   "source": [
    "# Auto Correlation Plots\n",
    "az.plot_autocorr(trace, var_names=['beta0','beta1'],combined=True, max_lag=200);\n"
   ]
  },
  {
   "cell_type": "markdown",
   "metadata": {},
   "source": [
    "### 6. Sensitivity Analysis"
   ]
  },
  {
   "cell_type": "code",
   "execution_count": null,
   "metadata": {},
   "outputs": [],
   "source": []
  },
  {
   "cell_type": "markdown",
   "metadata": {},
   "source": [
    "### 7. Posterior Predictive Check"
   ]
  },
  {
   "cell_type": "code",
   "execution_count": null,
   "metadata": {},
   "outputs": [],
   "source": []
  },
  {
   "cell_type": "markdown",
   "metadata": {},
   "source": [
    "### 8. Final Results"
   ]
  },
  {
   "cell_type": "code",
   "execution_count": null,
   "metadata": {},
   "outputs": [],
   "source": [
    "# Summary\n",
    "az.summary(trace, var_names=['beta0','beta1'],round_to=4)[['mean','hdi_3%','hdi_97%']]\n"
   ]
  },
  {
   "cell_type": "code",
   "execution_count": null,
   "metadata": {},
   "outputs": [],
   "source": [
    "# Posterior Plots with Credible Interval\n",
    "az.plot_posterior(trace, var_names=['beta0','beta1'], hdi_prob=.89);\n"
   ]
  },
  {
   "cell_type": "code",
   "execution_count": null,
   "metadata": {},
   "outputs": [],
   "source": [
    "# [include a chart here with the logistic regression best fit line with 95% CI]"
   ]
  },
  {
   "cell_type": "markdown",
   "metadata": {},
   "source": []
  }
 ],
 "metadata": {
  "kernelspec": {
   "display_name": "Python 3",
   "language": "python",
   "name": "python3"
  },
  "language_info": {
   "codemirror_mode": {
    "name": "ipython",
    "version": 3
   },
   "file_extension": ".py",
   "mimetype": "text/x-python",
   "name": "python",
   "nbconvert_exporter": "python",
   "pygments_lexer": "ipython3",
   "version": "3.11.4"
  },
  "orig_nbformat": 4
 },
 "nbformat": 4,
 "nbformat_minor": 2
}
